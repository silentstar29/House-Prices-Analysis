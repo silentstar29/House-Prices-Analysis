{
 "cells": [
  {
   "cell_type": "markdown",
   "metadata": {
    "colab_type": "text",
    "id": "O3mqdRYrd6Jk"
   },
   "source": [
    "### Importing libraries"
   ]
  },
  {
   "cell_type": "code",
   "execution_count": 1,
   "metadata": {
    "_cell_guid": "2dbccbd6-138b-4f1b-9b23-fd60c7525c14",
    "_execution_state": "idle",
    "_uuid": "c9b1d5dff21d39260eb47af6fe7aac4bd03be233",
    "colab": {},
    "colab_type": "code",
    "id": "klHV7EIueX9n"
   },
   "outputs": [],
   "source": [
    "#import some necessary librairies\n",
    "import numpy as np # linear algebra\n",
    "import pandas as pd # data processing, CSV file I/O (e.g. pd.read_csv)\n",
    "import warnings\n",
    "from sklearn.model_selection import RandomizedSearchCV"
   ]
  },
  {
   "cell_type": "code",
   "execution_count": 2,
   "metadata": {
    "_cell_guid": "135e8ac5-ce46-4a5f-b205-13f827ef33b8",
    "_execution_state": "idle",
    "_uuid": "fc664fbe27561a3697d0210921107b0e14b7d211",
    "colab": {},
    "colab_type": "code",
    "id": "x5s3nloWeX_O"
   },
   "outputs": [],
   "source": [
    "from sklearn.linear_model import ElasticNet, Lasso,  BayesianRidge, LassoLars,RidgeCV\n",
    "from sklearn.ensemble import RandomForestRegressor,  GradientBoostingRegressor\n",
    "from sklearn.svm import SVR\n",
    "from sklearn.kernel_ridge import KernelRidge\n",
    "from sklearn.pipeline import make_pipeline\n",
    "from sklearn.preprocessing import RobustScaler\n",
    "from sklearn.base import BaseEstimator, TransformerMixin, RegressorMixin, clone\n",
    "from sklearn.model_selection import KFold, cross_val_score, train_test_split\n",
    "from sklearn.metrics import mean_squared_error\n",
    "import xgboost as xgb\n",
    "import lightgbm as lgb"
   ]
  },
  {
   "cell_type": "code",
   "execution_count": 3,
   "metadata": {
    "_cell_guid": "0a75646f-1974-40ad-a085-ff7bc08454a5",
    "_execution_state": "idle",
    "_uuid": "89e464095544a53177d5a009b914ba4c660072a7",
    "colab": {},
    "colab_type": "code",
    "id": "VTgsasdNeX_L"
   },
   "outputs": [],
   "source": [
    "# import zipfile\n",
    "# import pandas as pd\n",
    "# zip = zipfile.ZipFile('preprocessesdData.zip')\n",
    "# zip.extractall()\n",
    "train =pd.read_csv('X_train.csv')\n",
    "test = pd.read_csv('X_test.csv')\n",
    "ytrain=pd.read_csv('y_train.csv')"
   ]
  },
  {
   "cell_type": "markdown",
   "metadata": {
    "colab_type": "text",
    "id": "7aTvQnwSzK5H"
   },
   "source": [
    "### Metric function"
   ]
  },
  {
   "cell_type": "code",
   "execution_count": 4,
   "metadata": {
    "_cell_guid": "232c3959-c6e1-4535-8ad4-62892edc3f06",
    "_execution_state": "idle",
    "_uuid": "07f9ef433905b61a08a36790254d6a34661f0653",
    "colab": {},
    "colab_type": "code",
    "id": "8E4KZYq4eX_d"
   },
   "outputs": [],
   "source": [
    "def rmsle(y, y_pred):\n",
    "    return np.sqrt(mean_squared_error(y, y_pred))"
   ]
  },
  {
   "cell_type": "markdown",
   "metadata": {
    "colab_type": "text",
    "id": "iI3TGvpEzYN6"
   },
   "source": [
    "## Stacking"
   ]
  },
  {
   "cell_type": "markdown",
   "metadata": {
    "colab_type": "text",
    "id": "Jd2PP4vEg_W_"
   },
   "source": [
    "![Image](https://camo.githubusercontent.com/fa34150cb31d02f68886584d549f300f8c290ba3/68747470733a2f2f6769746875622e636f6d2f766563786f7a2f766563737461636b2f7261772f6d61737465722f7069632f616e696d6174696f6e322e676966)"
   ]
  },
  {
   "cell_type": "markdown",
   "metadata": {
    "colab_type": "text",
    "id": "ndvm4kb4zayS"
   },
   "source": [
    "#### layer 1"
   ]
  },
  {
   "cell_type": "markdown",
   "metadata": {
    "colab_type": "text",
    "id": "gihx_VY7e7Kn"
   },
   "source": [
    "Tree based models do not need data to be scaled !\n",
    "so I haven't use scaling when predicting with boosting models"
   ]
  },
  {
   "cell_type": "code",
   "execution_count": 5,
   "metadata": {
    "_cell_guid": "03f45cb7-0a40-45ea-94e8-64fd7ff1e8f6",
    "_execution_state": "idle",
    "_uuid": "2a50c954cb771d350c3092c3658486ba4d22aba5",
    "colab": {},
    "colab_type": "code",
    "id": "4IEwYNJpeX_T"
   },
   "outputs": [],
   "source": [
    "ENet = make_pipeline(RobustScaler(), ElasticNet(alpha=0.0005, l1_ratio=.9,\n",
    "                                                random_state=7))\n",
    "#########################################################################\n",
    "KRR = KernelRidge(alpha=0.6, kernel='polynomial', degree=2, coef0=2.5)\n",
    "\n",
    "#########################################################################\n",
    "\n",
    "GBoost = GradientBoostingRegressor(n_estimators=3000, learning_rate=0.05,\n",
    "                                   max_depth=4, max_features='sqrt',\n",
    "                                   min_samples_leaf=15, min_samples_split=10, \n",
    "                                   loss='huber', random_state =5)\n"
   ]
  },
  {
   "cell_type": "code",
   "execution_count": 6,
   "metadata": {
    "colab": {
     "base_uri": "https://localhost:8080/",
     "height": 108
    },
    "colab_type": "code",
    "id": "KVr__1aGzth6",
    "outputId": "e9d6703d-59c7-45f3-87ce-487aae61d834"
   },
   "outputs": [
    {
     "name": "stdout",
     "output_type": "stream",
     "text": [
      "Requirement already satisfied: vecstack in c:\\users\\ryanabnavi\\anaconda3\\lib\\site-packages (0.3.0)\n",
      "Requirement already satisfied: scikit-learn>=0.18 in c:\\users\\ryanabnavi\\anaconda3\\lib\\site-packages (from vecstack) (0.20.3)\n",
      "Requirement already satisfied: numpy in c:\\users\\ryanabnavi\\anaconda3\\lib\\site-packages (from vecstack) (1.16.2)\n",
      "Requirement already satisfied: scipy in c:\\users\\ryanabnavi\\anaconda3\\lib\\site-packages (from vecstack) (1.2.1)\n"
     ]
    }
   ],
   "source": [
    "# library used for stacking \n",
    "# !pip install vecstack"
   ]
  },
  {
   "cell_type": "code",
   "execution_count": 7,
   "metadata": {
    "colab": {
     "base_uri": "https://localhost:8080/",
     "height": 749
    },
    "colab_type": "code",
    "id": "cD-pqCRHzlFF",
    "outputId": "e5c235a3-8f42-4bc8-cc8f-976cec340922"
   },
   "outputs": [
    {
     "name": "stderr",
     "output_type": "stream",
     "text": [
      "C:\\Users\\RyanAbnavi\\Anaconda3\\lib\\site-packages\\sklearn\\utils\\validation.py:761: DataConversionWarning: A column-vector y was passed when a 1d array was expected. Please change the shape of y to (n_samples, ), for example using ravel().\n",
      "  y = column_or_1d(y, warn=True)\n"
     ]
    },
    {
     "name": "stdout",
     "output_type": "stream",
     "text": [
      "task:         [regression]\n",
      "metric:       [mean_absolute_error]\n",
      "mode:         [oof_pred]\n",
      "n_models:     [3]\n",
      "\n",
      "model  0:     [KernelRidge]\n",
      "    fold  0:  [0.07751935]\n",
      "    fold  1:  [0.08266582]\n",
      "    fold  2:  [0.08303608]\n",
      "    fold  3:  [0.07790344]\n",
      "    fold  4:  [0.07958313]\n",
      "    ----\n",
      "    MEAN:     [0.08014157] + [0.00232152]\n",
      "    FULL:     [0.08014348]\n",
      "\n",
      "    Fitting on full train set...\n",
      "\n",
      "model  1:     [GradientBoostingRegressor]\n",
      "    fold  0:  [0.07667160]\n",
      "    fold  1:  [0.08286217]\n",
      "    fold  2:  [0.08281941]\n",
      "    fold  3:  [0.07613338]\n",
      "    fold  4:  [0.08030994]\n",
      "    ----\n",
      "    MEAN:     [0.07975930] + [0.00289746]\n",
      "    FULL:     [0.07976141]\n",
      "\n",
      "    Fitting on full train set...\n",
      "\n",
      "model  2:     [Pipeline]\n",
      "    fold  0:  [0.07594472]\n",
      "    fold  1:  [0.07917898]\n",
      "    fold  2:  [0.07852674]\n",
      "    fold  3:  [0.07524053]\n",
      "    fold  4:  [0.07742451]\n",
      "    ----\n",
      "    MEAN:     [0.07726310] + [0.00149146]\n",
      "    FULL:     [0.07726437]\n",
      "\n",
      "    Fitting on full train set...\n",
      "\n"
     ]
    }
   ],
   "source": [
    "from vecstack import stacking\n",
    "\n",
    "estimators = [KRR,GBoost,ENet]\n",
    "X_train=train\n",
    "y_train=ytrain\n",
    "X_test=test\n",
    "k=5\n",
    "\n",
    "L_train_1, L_test_1=stacking(estimators,X_train,\n",
    "         y_train, X_test,regression=True, \n",
    "         n_folds=k,mode='oof_pred',random_state=7, \n",
    "         verbose=2)"
   ]
  },
  {
   "cell_type": "markdown",
   "metadata": {
    "colab_type": "text",
    "id": "XyYMJZFIzvjy"
   },
   "source": [
    "#### layer 2"
   ]
  },
  {
   "cell_type": "code",
   "execution_count": 8,
   "metadata": {
    "colab": {},
    "colab_type": "code",
    "id": "T_PBuff2K1N_"
   },
   "outputs": [],
   "source": [
    "ENet2 = make_pipeline(RobustScaler(), ElasticNet(alpha=0.00055, l1_ratio=.45,\n",
    "                                                random_state=7))\n",
    "#########################################################################\n",
    "KRR2 = KernelRidge(alpha=0.4, kernel='polynomial', degree=2, coef0=2.5)\n",
    "#########################################################################\n",
    "GBoost2 = GradientBoostingRegressor(n_estimators=1000, learning_rate=0.01,\n",
    "                                   max_depth=3, max_features='sqrt',\n",
    "                                   min_samples_leaf=7, min_samples_split=10, \n",
    "                                   loss='huber', random_state =7)"
   ]
  },
  {
   "cell_type": "code",
   "execution_count": 9,
   "metadata": {
    "colab": {
     "base_uri": "https://localhost:8080/",
     "height": 749
    },
    "colab_type": "code",
    "id": "ZOInL9XbgZvL",
    "outputId": "523df860-cde9-4cae-ca40-605d1948935b"
   },
   "outputs": [
    {
     "name": "stderr",
     "output_type": "stream",
     "text": [
      "C:\\Users\\RyanAbnavi\\Anaconda3\\lib\\site-packages\\sklearn\\utils\\validation.py:761: DataConversionWarning: A column-vector y was passed when a 1d array was expected. Please change the shape of y to (n_samples, ), for example using ravel().\n",
      "  y = column_or_1d(y, warn=True)\n"
     ]
    },
    {
     "name": "stdout",
     "output_type": "stream",
     "text": [
      "task:         [regression]\n",
      "metric:       [mean_absolute_error]\n",
      "mode:         [oof_pred]\n",
      "n_models:     [3]\n",
      "\n",
      "model  0:     [Pipeline]\n",
      "    fold  0:  [0.07383766]\n",
      "    fold  1:  [0.07569147]\n",
      "    fold  2:  [0.07536123]\n",
      "    fold  3:  [0.07190660]\n",
      "    fold  4:  [0.07401263]\n",
      "    ----\n",
      "    MEAN:     [0.07416192] + [0.00134103]\n",
      "    FULL:     [0.07416357]\n",
      "\n",
      "    Fitting on full train set...\n",
      "\n",
      "model  1:     [KernelRidge]\n",
      "    fold  0:  [0.07397262]\n",
      "    fold  1:  [0.07572903]\n",
      "    fold  2:  [0.07534267]\n",
      "    fold  3:  [0.07191053]\n",
      "    fold  4:  [0.07399440]\n",
      "    ----\n",
      "    MEAN:     [0.07418985] + [0.00134006]\n",
      "    FULL:     [0.07419155]\n",
      "\n",
      "    Fitting on full train set...\n",
      "\n",
      "model  2:     [GradientBoostingRegressor]\n",
      "    fold  0:  [0.07590069]\n",
      "    fold  1:  [0.07828955]\n",
      "    fold  2:  [0.07719493]\n",
      "    fold  3:  [0.07499336]\n",
      "    fold  4:  [0.07385180]\n",
      "    ----\n",
      "    MEAN:     [0.07604607] + [0.00156826]\n",
      "    FULL:     [0.07604829]\n",
      "\n",
      "    Fitting on full train set...\n",
      "\n"
     ]
    }
   ],
   "source": [
    "#layer 2\n",
    "estimatorsL2=[ENet2,KRR2,GBoost2]\n",
    "\n",
    "L_train_2, L_test_2=stacking(estimatorsL2,L_train_1,\n",
    "         y_train, L_test_1,regression=True, \n",
    "         n_folds=k,mode='oof_pred',random_state=7, \n",
    "         verbose=2)\n"
   ]
  },
  {
   "cell_type": "markdown",
   "metadata": {
    "colab_type": "text",
    "id": "w_hPPjPqzzJm"
   },
   "source": [
    "#### layer 3\n"
   ]
  },
  {
   "cell_type": "code",
   "execution_count": 10,
   "metadata": {
    "colab": {},
    "colab_type": "code",
    "id": "hvEZe1GIb2nd"
   },
   "outputs": [],
   "source": [
    "#our estimator (hyper params have been found by randomized search)\n",
    "ENet3=make_pipeline(RobustScaler(), ElasticNet(alpha=0.006, l1_ratio=0.0008,\n",
    "                                                random_state=7))"
   ]
  },
  {
   "cell_type": "code",
   "execution_count": 11,
   "metadata": {
    "colab": {
     "base_uri": "https://localhost:8080/",
     "height": 249
    },
    "colab_type": "code",
    "id": "7GpRyKSpz0xO",
    "outputId": "1679e903-b03b-49e3-f543-7d73918aab9f"
   },
   "outputs": [
    {
     "name": "stdout",
     "output_type": "stream",
     "text": [
      "task:         [regression]\n",
      "metric:       [mean_absolute_error]\n",
      "mode:         [oof_pred]\n",
      "n_models:     [1]\n",
      "\n",
      "model  0:     [Pipeline]\n",
      "    ----\n",
      "    MEAN:     [0.07425581] + [0.00124405]\n",
      "    FULL:     [0.07425787]\n",
      "\n",
      "    Fitting on full train set...\n",
      "\n",
      "0.1097057540215649\n"
     ]
    },
    {
     "name": "stderr",
     "output_type": "stream",
     "text": [
      "C:\\Users\\RyanAbnavi\\Anaconda3\\lib\\site-packages\\sklearn\\utils\\validation.py:761: DataConversionWarning: A column-vector y was passed when a 1d array was expected. Please change the shape of y to (n_samples, ), for example using ravel().\n",
      "  y = column_or_1d(y, warn=True)\n"
     ]
    }
   ],
   "source": [
    "#layer 3\n",
    "L_train_3, L_test_3=stacking([ENet3],L_train_2,\n",
    "         y_train, L_test_2,regression=True, \n",
    "         n_folds=k,mode='oof_pred',random_state=7, \n",
    "         verbose=1)\n",
    "\n",
    "print(rmsle(y_train,L_train_3))"
   ]
  },
  {
   "cell_type": "code",
   "execution_count": 12,
   "metadata": {
    "colab": {},
    "colab_type": "code",
    "id": "XnV30xSEjsnQ"
   },
   "outputs": [],
   "source": [
    "stack_pred=np.expm1(L_test_3).reshape(len(L_test_3),)\n",
    "\n",
    "#traing predictions are in logged form \n",
    "#because the y_train is still in this form too\n",
    "stack_train=L_train_3.reshape(len(L_train_3),)"
   ]
  },
  {
   "cell_type": "markdown",
   "metadata": {
    "colab_type": "text",
    "id": "MM7MpVMw3d5C"
   },
   "source": [
    "## Weighted average ensemble\n",
    "\n"
   ]
  },
  {
   "cell_type": "code",
   "execution_count": 13,
   "metadata": {
    "colab": {},
    "colab_type": "code",
    "id": "cBLg7iyVeT1F"
   },
   "outputs": [],
   "source": [
    "\n",
    "model_xgb = xgb.XGBRegressor(colsample_bytree=0.4603, gamma=0.0468, \n",
    "                             learning_rate=0.05, max_depth=3, \n",
    "                             min_child_weight=1.7817, n_estimators=2200,\n",
    "                             reg_alpha=0.4640, reg_lambda=0.8571,\n",
    "                             subsample=0.5213, silent=1,\n",
    "                             random_state =7, nthread = -1)\n",
    "#########################################################################\n",
    "model_lgb = lgb.LGBMRegressor(objective='regression',num_leaves=5,\n",
    "                              learning_rate=0.05, n_estimators=720,\n",
    "                              max_bin = 55, bagging_fraction = 0.8,\n",
    "                              bagging_freq = 5, feature_fraction = 0.2319,\n",
    "                              feature_fraction_seed=9, bagging_seed=9,\n",
    "                              min_data_in_leaf =6, min_sum_hessian_in_leaf = 11)\n",
    "\n"
   ]
  },
  {
   "cell_type": "markdown",
   "metadata": {
    "_cell_guid": "6c322757-44c0-4c81-a319-1aa6ccdf440f",
    "_execution_state": "idle",
    "_uuid": "06a0eafc07a8dae002f3fc1499849ebf7ec014be",
    "colab_type": "text",
    "id": "Z2RzPGx-eX_k"
   },
   "source": [
    "**XGBoost:**"
   ]
  },
  {
   "cell_type": "code",
   "execution_count": 14,
   "metadata": {
    "_cell_guid": "2af45055-47aa-4e26-84df-ba5726bdff54",
    "_execution_state": "idle",
    "_uuid": "c80de2558910e4091f087a99bfcb202f01033ad7",
    "colab": {
     "base_uri": "https://localhost:8080/",
     "height": 35
    },
    "colab_type": "code",
    "id": "fM8kHPfjeX_l",
    "outputId": "890fb487-5676-41e3-b2d6-dadf33a5746b"
   },
   "outputs": [
    {
     "name": "stdout",
     "output_type": "stream",
     "text": [
      "0.07879894799249869\n"
     ]
    }
   ],
   "source": [
    "model_xgb.fit(train, y_train)\n",
    "xgb_train_pred = model_xgb.predict(train)\n",
    "xgb_pred = np.expm1(model_xgb.predict(test))\n",
    "print(rmsle(y_train, xgb_train_pred))"
   ]
  },
  {
   "cell_type": "markdown",
   "metadata": {
    "_cell_guid": "22b2b135-2af8-4dbb-a8f0-1fcd7f745a66",
    "_execution_state": "idle",
    "_uuid": "b6d1cdcc2bfc08d0eb58135878008e6d64987089",
    "colab_type": "text",
    "id": "OKLdCsj0eX_n"
   },
   "source": [
    "**LightGBM:**"
   ]
  },
  {
   "cell_type": "code",
   "execution_count": 15,
   "metadata": {
    "_cell_guid": "995d4c8e-db72-4370-a1ec-50e0c761f09a",
    "_execution_state": "idle",
    "_uuid": "65398376dca67e2aa78576108a0bb8160031c111",
    "colab": {
     "base_uri": "https://localhost:8080/",
     "height": 35
    },
    "colab_type": "code",
    "id": "4hr9s8POeX_n",
    "outputId": "ff11cfa3-34f4-4072-eff3-570654e20c20"
   },
   "outputs": [
    {
     "name": "stdout",
     "output_type": "stream",
     "text": [
      "0.07307464036005416\n"
     ]
    }
   ],
   "source": [
    "model_lgb.fit(train, y_train)\n",
    "lgb_train_pred = model_lgb.predict(train)\n",
    "lgb_pred = np.expm1(model_lgb.predict(test.values))\n",
    "print(rmsle(y_train, lgb_train_pred))"
   ]
  },
  {
   "cell_type": "markdown",
   "metadata": {
    "colab_type": "text",
    "id": "sYhUU4bAsG1T"
   },
   "source": [
    "### training error"
   ]
  },
  {
   "cell_type": "code",
   "execution_count": 16,
   "metadata": {
    "_cell_guid": "619452b2-c395-48fe-81ab-d6b1d355236b",
    "_execution_state": "idle",
    "_uuid": "07500cf506f6a90c6439c2dabf81ab966cf1c792",
    "colab": {
     "base_uri": "https://localhost:8080/",
     "height": 53
    },
    "colab_type": "code",
    "id": "tvoiQdSFeX_r",
    "outputId": "2ba67c57-25cd-4cbb-a962-5c778494ffd5",
    "scrolled": true
   },
   "outputs": [
    {
     "name": "stdout",
     "output_type": "stream",
     "text": [
      "RMSLE score on train data:\n",
      "0.09732256628046794\n"
     ]
    }
   ],
   "source": [
    "'''RMSE on the entire Train data when averaging'''\n",
    "\n",
    "print('RMSLE score on train data:')\n",
    "print(rmsle(y_train,stack_train*0.7 +xgb_train_pred*0.12 + lgb_train_pred*0.18  ))"
   ]
  },
  {
   "cell_type": "markdown",
   "metadata": {
    "_cell_guid": "844b5e21-7bd2-4a2b-9f7a-2e755ed06ecb",
    "_execution_state": "idle",
    "_uuid": "59443e95f66cb9e595cff9a3666824299239126b",
    "colab_type": "text",
    "id": "0tBWpgvGeX_x"
   },
   "source": [
    "### Ensemble prediction"
   ]
  },
  {
   "cell_type": "code",
   "execution_count": 17,
   "metadata": {
    "_cell_guid": "3ec2c58f-6bee-46a6-a263-1fe2cf3569cb",
    "_execution_state": "idle",
    "_uuid": "18996472b775bd9114fea7f08c8a554d4dafe774",
    "colab": {},
    "colab_type": "code",
    "id": "Oz214bg4eX_y"
   },
   "outputs": [],
   "source": [
    "stack_pred=stack_pred.reshape(1459,)\n",
    "ensemble =stack_pred*0.6 +xgb_pred*0 + lgb_pred*0.4  "
   ]
  },
  {
   "cell_type": "code",
   "execution_count": 7,
   "metadata": {
    "colab": {
     "base_uri": "https://localhost:8080/",
     "height": 35
    },
    "colab_type": "code",
    "id": "kNycW3ramAko",
    "outputId": "086da078-d834-45d3-82c5-fc6f2b90f79e"
   },
   "outputs": [
    {
     "ename": "NameError",
     "evalue": "name 'ensemble' is not defined",
     "output_type": "error",
     "traceback": [
      "\u001b[1;31m---------------------------------------------------------------------------\u001b[0m",
      "\u001b[1;31mNameError\u001b[0m                                 Traceback (most recent call last)",
      "\u001b[1;32m<ipython-input-7-a039cce7940a>\u001b[0m in \u001b[0;36m<module>\u001b[1;34m\u001b[0m\n\u001b[1;32m----> 1\u001b[1;33m \u001b[0mensemble\u001b[0m\u001b[1;33m.\u001b[0m\u001b[0mshape\u001b[0m\u001b[1;33m\u001b[0m\u001b[1;33m\u001b[0m\u001b[0m\n\u001b[0m",
      "\u001b[1;31mNameError\u001b[0m: name 'ensemble' is not defined"
     ]
    }
   ],
   "source": [
    "ensemble.shape"
   ]
  },
  {
   "cell_type": "markdown",
   "metadata": {
    "_cell_guid": "434ca649-2fa0-46a5-ab29-7f403448ddf7",
    "_execution_state": "idle",
    "_uuid": "c9f02561da543f4901dcd2051acbd6c197108dd5",
    "colab_type": "text",
    "id": "S2nh9EdWeX_0"
   },
   "source": [
    "## Submission"
   ]
  },
  {
   "cell_type": "code",
   "execution_count": 19,
   "metadata": {
    "_cell_guid": "3db46af9-e18a-43bb-9699-45b851f835e5",
    "_execution_state": "idle",
    "_uuid": "93f6915cf25c7bb6b6fa6e74ad7b853387ac1db5",
    "colab": {
     "base_uri": "https://localhost:8080/",
     "height": 202
    },
    "colab_type": "code",
    "id": "hCRiMHUxeX_1",
    "outputId": "372bd3f5-24b0-483c-b790-7895578cb122"
   },
   "outputs": [
    {
     "data": {
      "text/html": [
       "<div>\n",
       "<style scoped>\n",
       "    .dataframe tbody tr th:only-of-type {\n",
       "        vertical-align: middle;\n",
       "    }\n",
       "\n",
       "    .dataframe tbody tr th {\n",
       "        vertical-align: top;\n",
       "    }\n",
       "\n",
       "    .dataframe thead th {\n",
       "        text-align: right;\n",
       "    }\n",
       "</style>\n",
       "<table border=\"1\" class=\"dataframe\">\n",
       "  <thead>\n",
       "    <tr style=\"text-align: right;\">\n",
       "      <th></th>\n",
       "      <th>Id</th>\n",
       "      <th>SalePrice</th>\n",
       "    </tr>\n",
       "  </thead>\n",
       "  <tbody>\n",
       "    <tr>\n",
       "      <th>0</th>\n",
       "      <td>1461</td>\n",
       "      <td>120631.342090</td>\n",
       "    </tr>\n",
       "    <tr>\n",
       "      <th>1</th>\n",
       "      <td>1462</td>\n",
       "      <td>158404.409305</td>\n",
       "    </tr>\n",
       "    <tr>\n",
       "      <th>2</th>\n",
       "      <td>1463</td>\n",
       "      <td>183752.333993</td>\n",
       "    </tr>\n",
       "    <tr>\n",
       "      <th>3</th>\n",
       "      <td>1464</td>\n",
       "      <td>194412.748061</td>\n",
       "    </tr>\n",
       "    <tr>\n",
       "      <th>4</th>\n",
       "      <td>1465</td>\n",
       "      <td>195149.086338</td>\n",
       "    </tr>\n",
       "  </tbody>\n",
       "</table>\n",
       "</div>"
      ],
      "text/plain": [
       "     Id      SalePrice\n",
       "0  1461  120631.342090\n",
       "1  1462  158404.409305\n",
       "2  1463  183752.333993\n",
       "3  1464  194412.748061\n",
       "4  1465  195149.086338"
      ]
     },
     "execution_count": 19,
     "metadata": {},
     "output_type": "execute_result"
    }
   ],
   "source": [
    "sub = pd.DataFrame()\n",
    "sub['Id'] = range(1461,1461+1459)\n",
    "sub['SalePrice'] = ensemble\n",
    "sub.to_csv('submission.csv',index=False)\n",
    "sub.head()"
   ]
  },
  {
   "cell_type": "code",
   "execution_count": null,
   "metadata": {},
   "outputs": [],
   "source": []
  }
 ],
 "metadata": {
  "kernelspec": {
   "display_name": "Python 3",
   "language": "python",
   "name": "python3"
  },
  "language_info": {
   "codemirror_mode": {
    "name": "ipython",
    "version": 3
   },
   "file_extension": ".py",
   "mimetype": "text/x-python",
   "name": "python",
   "nbconvert_exporter": "python",
   "pygments_lexer": "ipython3",
   "version": "3.6.6"
  }
 },
 "nbformat": 4,
 "nbformat_minor": 2
}
